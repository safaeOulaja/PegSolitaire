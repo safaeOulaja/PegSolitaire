{
 "cells": [
  {
   "cell_type": "markdown",
   "id": "a430cc89",
   "metadata": {},
   "source": [
    "# Devoir n°2 : Peg Solitaire"
   ]
  },
  {
   "cell_type": "code",
   "execution_count": null,
   "id": "3a3ed217",
   "metadata": {},
   "outputs": [],
   "source": [
    "# 1-Pourquoi les méthodes de recherches BFS et DFS itératif ne sont pas bonnes pour ce genre de problème ?\n",
    "'''\n",
    "->pour la BFS :elle explore tous les successeurs d'un état avant de passer aux successeurs de ses successeurs. Avec la grande quantité \n",
    "d'états (32 piquets, 33 trous) à explorer dans le Peg solitaire,la méthode BFS peut être inefficace en termes de mémoire et de\n",
    "temps,car il doit stocker en mémoire tous les états à un niveau donné avant de passer au niveau suivant.\n",
    "\n",
    "->pour la DFS itératif : Pour le Peg Solitaire, cette approche n'offre pas d'avantages particuliers, car la structure du problème\n",
    "ne permet pas de tomber dans des boucles infinies. De plus, le Peg Solitaire n'a pas de solution unique et optimale,\n",
    "car dans tous les cas, on atteint la solution après approximativement le même nombre de mouvements.\n",
    "Ainsi, tous les chemins menant à la solution sont considérés comme optimaux, et l'usage d'une recherche itérative en profondeur\n",
    "ne fournit pas nécessairement de bénéfices significatifs pour ce problème particulier.\n",
    "'''"
   ]
  },
  {
   "cell_type": "code",
   "execution_count": null,
   "id": "9e88d4c3",
   "metadata": {},
   "outputs": [],
   "source": [
    "# 2-Recherche en profondeur d'abord\n",
    "class PegSolitaire:\n",
    "    def __init__(self, plateau):\n",
    "        self.plateau = plateau\n",
    "\n",
    "    def successeur(self, etat):\n",
    "        successeurs = []\n",
    "\n",
    "        for i in range(len(etat)):\n",
    "            for j in range(len(etat[i])):\n",
    "                #Si la case contient un piquet\n",
    "                if etat[i][j] == 1:\n",
    "                    #Tout les mouvements possibles\n",
    "                    mouvements = [(i - 2, j), (i + 2, j), (i, j - 2), (i, j + 2)]\n",
    "\n",
    "                    for mvt in mouvements:\n",
    "                        ni, nj = mvt\n",
    "                        if 0 <= ni < len(etat) and 0 <= nj < len(etat[i]) and etat[ni][nj] == 0 and etat[(i + ni) // 2][(j + nj) // 2] == 1:\n",
    "                            #Retirer le piquet sauté\n",
    "                            nouveau_etat = [ligne[:] for ligne in etat]\n",
    "                            nouveau_etat[i][j] = 0\n",
    "                            nouveau_etat[(i + ni) // 2][(j + nj) // 2] = 0\n",
    "                            nouveau_etat[ni][nj] = 1\n",
    "                            successeurs.append(nouveau_etat)\n",
    "\n",
    "        return successeurs\n",
    "\n",
    "    def is_goal(self, etat):\n",
    "        #es qu'on a atteint le goal\n",
    "        return sum(ligne.count(1) for ligne in etat) == 1\n",
    "\n",
    "def DFS(probleme, etat, chemin=[]):\n",
    "    if probleme.is_goal(etat):\n",
    "        return chemin\n",
    "    for successeur in probleme.successeur(etat):Voi\n",
    "        if successeur not in chemin:\n",
    "            nouveau_chemin = DFS(probleme, successeur, chemin + [successeur])\n",
    "            if nouveau_chemin:\n",
    "                return nouveau_chemin\n",
    "    return None"
   ]
  },
  {
   "cell_type": "code",
   "execution_count": null,
   "id": "f56317a8",
   "metadata": {},
   "outputs": [],
   "source": [
    "#Exemple de peg 3 par 3\n",
    "etat_init = [[1, 1, 1], [1, 1, 1], [1, 1, 1]]\n",
    "peg = PegSolitaire(etat_init)\n",
    "chemin = DFS(peg, etat_init)\n",
    "\n",
    "if chemin:\n",
    "    print(\"Voici le chemin de la solution\")\n",
    "    for etape in chemin:\n",
    "        print(etape)\n",
    "else:\n",
    "    print(\"Aucune solution n'a été trouvé\")"
   ]
  }
 ],
 "metadata": {
  "kernelspec": {
   "display_name": "Python 3 (ipykernel)",
   "language": "python",
   "name": "python3"
  },
  "language_info": {
   "codemirror_mode": {
    "name": "ipython",
    "version": 3
   },
   "file_extension": ".py",
   "mimetype": "text/x-python",
   "name": "python",
   "nbconvert_exporter": "python",
   "pygments_lexer": "ipython3",
   "version": "3.11.5"
  }
 },
 "nbformat": 4,
 "nbformat_minor": 5
}
